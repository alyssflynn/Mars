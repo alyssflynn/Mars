{
 "cells": [
  {
   "cell_type": "code",
   "execution_count": 37,
   "metadata": {},
   "outputs": [],
   "source": [
    "import os\n",
    "import time\n",
    "from bs4 import BeautifulSoup as bs\n",
    "import requests\n",
    "import pandas as pd\n",
    "import splinter\n",
    "from splinter import Browser\n",
    "import tweepy\n",
    "from config import consumer_key, consumer_secret, access_token, access_token_secret\n"
   ]
  },
  {
   "cell_type": "code",
   "execution_count": 40,
   "metadata": {},
   "outputs": [],
   "source": [
    "def scrape():\n",
    "    executable_path = {'executable_path': '/Users/alyss/chromedriver'}\n",
    "    browser = Browser('chrome', **executable_path, headless=True)\n",
    "    \n",
    "    mars_data = {}\n",
    "    \n",
    "    # Scrape nasa news site\n",
    "    browser.visit(\"https://mars.nasa.gov/news/\")\n",
    "    html = browser.html\n",
    "    soup = bs(html, \"html.parser\")\n",
    "    \n",
    "    news_title = soup.find(\"div\", class_=\"content_title\").text\n",
    "    news_p = soup.find(\"div\", class_=\"rollover_description_inner\").text\n",
    "    \n",
    "    mars_data[\"Mars_news_title\"] = news_title\n",
    "    mars_data[\"Mars_news_summary\"] = news_p\n",
    "    \n",
    "    # JPL featured image\n",
    "    browser.visit(\"https://www.jpl.nasa.gov/spaceimages/?search=&category=Mars\")\n",
    "    browser.find_by_id(\"full_image\").click()\n",
    "    browser.is_element_present_by_text(\"more info\", wait_time=1)\n",
    "    \n",
    "    html = browser.html\n",
    "    soup = bs(html, \"html.parser\")\n",
    "    img = soup.select_one(\"img\").get(\"src\")\n",
    "    featured_image_url = \"https://jpl.nasa.gov\" + img\n",
    "    \n",
    "    mars_data[\"Mars_featured_image\"] = featured_image_url\n",
    "    \n",
    "    ### Scrape twitter for Mars weather\n",
    "    # Tweepy API Authentication\n",
    "    browser.visit(\"https://twitter.com/marswxreport?lang=en\")\n",
    "    \n",
    "    html = browser.html\n",
    "    soup = bs(html, \"html.parser\")\n",
    "    latest_tweet = soup.find(\"div\", class_=\"js-tweet-text-container\").text\n",
    "    \n",
    "    mars_data[\"Mars_weather\"] = latest_tweet\n",
    "    \n",
    "    ### Mars facts\n",
    "    url_mars_facts = \"https://space-facts.com/mars/\"\n",
    "    browser.visit(\"https://space-facts.com/mars/\")\n",
    "    \n",
    "    # get table\n",
    "    table = pd.read_html(url_mars_facts)\n",
    "    mars_facts_df = table[0]\n",
    "    mars_facts_df.columns = [\"description\", \"value\"]\n",
    "    mars_facts_df.set_index(\"description\", inplace=True)\n",
    "    print(mars_facts_df)\n",
    "    \n",
    "    # convert df to html\n",
    "    html_table = mars_facts_df.to_html(classes=\"table\")\n",
    "    html_table.replace('\\n', ' ')\n",
    "    html_table.to_html('table.html')\n",
    "    \n",
    "    mars_table = html_table.replace('\\n', ' ')\n",
    "    mars_data[\"Mars_facts\"] = mars_table\n",
    "    print(mars_data)\n",
    "    \n",
    "    ### Mars Hemispheres\n",
    "    hemisphere_url = \"https://astrogeology.usgs.gov/search/results?q=hemisphere+enhanced&k1=target&v1=Mars\"\n",
    "    browser.visit(hemisphere_url)\n",
    "    html =  browser.html\n",
    "    soup = bs(html, 'html.parser')\n",
    "    \n",
    "    hemisphere_image_urls = [\n",
    "        {\"title\": \"Valles Marineris Hemisphere\", \"img_url\": \"https://astrogeology.usgs.gov/search/map/Mars/Viking/valles_marineris_enhanced\"},\n",
    "        {\"title\": \"Cerberus Hemisphere\", \"img_url\": \"https://astrogeology.usgs.gov/search/map/Mars/Viking/cerberus_enhanced\"},\n",
    "        {\"title\": \"Schiaparelli Hemisphere\", \"img_url\": \"https://astrogeology.usgs.gov/search/map/Mars/Viking/schiaparelli_enhanced\"},\n",
    "        {\"title\": \"Syrtis Major Hemisphere\", \"img_url\": \"https://astrogeology.usgs.gov/search/map/Mars/Viking/syrtis_major_enhanced\"},\n",
    "    ]\n",
    "    \n",
    "    #for i in range(len(hemisphere_image_urls)):\n",
    "        #time.sleep(5)\n",
    "        #pass\n",
    "    \n",
    "    mars_data['Mars_hemispheres'] = hemisphere_image_urls\n",
    "    \n",
    "    browser.quit()\n",
    "    print(mars_data)\n",
    "    return mars_data"
   ]
  },
  {
   "cell_type": "code",
   "execution_count": 41,
   "metadata": {},
   "outputs": [
    {
     "name": "stdout",
     "output_type": "stream",
     "text": [
      "                                              value\n",
      "description                                        \n",
      "Equatorial Diameter:                       6,792 km\n",
      "Polar Diameter:                            6,752 km\n",
      "Mass:                 6.42 x 10^23 kg (10.7% Earth)\n",
      "Moons:                          2 (Phobos & Deimos)\n",
      "Orbit Distance:            227,943,824 km (1.52 AU)\n",
      "Orbit Period:                  687 days (1.9 years)\n",
      "Surface Temperature:                  -153 to 20 °C\n",
      "First Record:                     2nd millennium BC\n",
      "Recorded By:                   Egyptian astronomers\n"
     ]
    },
    {
     "ename": "AttributeError",
     "evalue": "'str' object has no attribute 'to_html'",
     "output_type": "error",
     "traceback": [
      "\u001b[0;31m---------------------------------------------------------------------------\u001b[0m",
      "\u001b[0;31mAttributeError\u001b[0m                            Traceback (most recent call last)",
      "\u001b[0;32m<ipython-input-41-d853167a9592>\u001b[0m in \u001b[0;36m<module>\u001b[0;34m()\u001b[0m\n\u001b[0;32m----> 1\u001b[0;31m \u001b[0mmd\u001b[0m \u001b[0;34m=\u001b[0m \u001b[0mscrape\u001b[0m\u001b[0;34m(\u001b[0m\u001b[0;34m)\u001b[0m\u001b[0;34m\u001b[0m\u001b[0m\n\u001b[0m",
      "\u001b[0;32m<ipython-input-40-2d8bb0f1aac2>\u001b[0m in \u001b[0;36mscrape\u001b[0;34m()\u001b[0m\n\u001b[1;32m     52\u001b[0m     \u001b[0mhtml_table\u001b[0m \u001b[0;34m=\u001b[0m \u001b[0mmars_facts_df\u001b[0m\u001b[0;34m.\u001b[0m\u001b[0mto_html\u001b[0m\u001b[0;34m(\u001b[0m\u001b[0mclasses\u001b[0m\u001b[0;34m=\u001b[0m\u001b[0;34m\"table\"\u001b[0m\u001b[0;34m)\u001b[0m\u001b[0;34m\u001b[0m\u001b[0m\n\u001b[1;32m     53\u001b[0m     \u001b[0mhtml_table\u001b[0m\u001b[0;34m.\u001b[0m\u001b[0mreplace\u001b[0m\u001b[0;34m(\u001b[0m\u001b[0;34m'\\n'\u001b[0m\u001b[0;34m,\u001b[0m \u001b[0;34m' '\u001b[0m\u001b[0;34m)\u001b[0m\u001b[0;34m\u001b[0m\u001b[0m\n\u001b[0;32m---> 54\u001b[0;31m     \u001b[0mhtml_table\u001b[0m\u001b[0;34m.\u001b[0m\u001b[0mto_html\u001b[0m\u001b[0;34m(\u001b[0m\u001b[0;34m'table.html'\u001b[0m\u001b[0;34m)\u001b[0m\u001b[0;34m\u001b[0m\u001b[0m\n\u001b[0m\u001b[1;32m     55\u001b[0m \u001b[0;34m\u001b[0m\u001b[0m\n\u001b[1;32m     56\u001b[0m     \u001b[0mmars_table\u001b[0m \u001b[0;34m=\u001b[0m \u001b[0mhtml_table\u001b[0m\u001b[0;34m.\u001b[0m\u001b[0mreplace\u001b[0m\u001b[0;34m(\u001b[0m\u001b[0;34m'\\n'\u001b[0m\u001b[0;34m,\u001b[0m \u001b[0;34m' '\u001b[0m\u001b[0;34m)\u001b[0m\u001b[0;34m\u001b[0m\u001b[0m\n",
      "\u001b[0;31mAttributeError\u001b[0m: 'str' object has no attribute 'to_html'"
     ]
    }
   ],
   "source": [
    "md = scrape()"
   ]
  },
  {
   "cell_type": "code",
   "execution_count": null,
   "metadata": {
    "scrolled": true
   },
   "outputs": [],
   "source": [
    "md"
   ]
  },
  {
   "cell_type": "code",
   "execution_count": null,
   "metadata": {},
   "outputs": [],
   "source": [
    "md.keys()\n"
   ]
  },
  {
   "cell_type": "code",
   "execution_count": null,
   "metadata": {},
   "outputs": [],
   "source": []
  }
 ],
 "metadata": {
  "kernelspec": {
   "display_name": "Python [default]",
   "language": "python",
   "name": "python3"
  },
  "language_info": {
   "codemirror_mode": {
    "name": "ipython",
    "version": 3
   },
   "file_extension": ".py",
   "mimetype": "text/x-python",
   "name": "python",
   "nbconvert_exporter": "python",
   "pygments_lexer": "ipython3",
   "version": "3.6.4"
  }
 },
 "nbformat": 4,
 "nbformat_minor": 2
}
