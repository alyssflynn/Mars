{
 "cells": [
  {
   "cell_type": "code",
   "execution_count": 7,
   "metadata": {},
   "outputs": [],
   "source": [
    "import os\n",
    "import time\n",
    "from bs4 import BeautifulSoup as bs\n",
    "import requests\n",
    "import pandas as pd\n",
    "import splinter\n",
    "from splinter import Browser\n",
    "import tweepy\n",
    "from config import consumer_key, consumer_secret, access_token, access_token_secret\n"
   ]
  },
  {
   "cell_type": "code",
   "execution_count": 25,
   "metadata": {},
   "outputs": [],
   "source": [
    "def scrape():\n",
    "    executable_path = {'executable_path': '/Users/alyss/chromedriver'}\n",
    "    browser = Browser('chrome', **executable_path, headless=True)\n",
    "    \n",
    "    mars_data = {}\n",
    "    \n",
    "    # Scrape nasa news site\n",
    "    browser.visit(\"https://mars.nasa.gov/news/\")\n",
    "    html = browser.html\n",
    "    soup = bs(html, \"html.parser\")\n",
    "    \n",
    "    news_title = soup.find(\"div\", class_=\"content_title\").text\n",
    "    news_p = soup.find(\"div\", class_=\"rollover_description_inner\").text\n",
    "    \n",
    "    mars_data[\"Mars_news_title\"] = news_title\n",
    "    mars_data[\"Mars_news_summary\"] = news_p\n",
    "    \n",
    "    # JPL featured image\n",
    "    browser.visit(\"https://www.jpl.nasa.gov/spaceimages/?search=&category=Mars\")\n",
    "    browser.find_by_id(\"full_image\").click()\n",
    "    browser.is_element_present_by_text(\"more info\", wait_time=1)\n",
    "    \n",
    "    html = browser.html\n",
    "    soup = bs(html, \"html.parser\")\n",
    "    img = soup.select_one(\"img\").get(\"src\")\n",
    "    featured_image_url = \"https://jpl.nasa.gov\" + img\n",
    "    \n",
    "    mars_data[\"Mars_featured_image\"] = featured_image_url\n",
    "    \n",
    "    ### Scrape twitter for Mars weather\n",
    "    # Tweepy API Authentication\n",
    "    browser.visit(\"https://twitter.com/marswxreport?lang=en\")\n",
    "    \n",
    "    html = browser.html\n",
    "    soup = bs(html, \"html.parser\")\n",
    "    latest_tweet = soup.find(\"div\", class_=\"js-tweet-text-container\").text\n",
    "    \n",
    "    mars_data[\"Mars_weather\"] = latest_tweet\n",
    "    \n",
    "    ### Mars facts\n",
    "    url_mars_facts = \"https://space-facts.com/mars/\"\n",
    "    browser.visit(\"https://space-facts.com/mars/\")\n",
    "    \n",
    "    # get table\n",
    "    facts_table = pd.read_html(url_mars_facts)\n",
    "    mars_facts_df = facts_table[0]\n",
    "    mars_facts_df.columns = [\"description\", \"value\"]\n",
    "    #mars_facts_df.select_index(\"description\")\n",
    "    print(mars_facts_df)\n",
    "    \n",
    "    # convert df to html\n",
    "    mars_html_table = mars_facts_df.to_html(classes=\"table\")\n",
    "    mars_table = mars_html_table.replace('\\n', ' ')\n",
    "    mars_data[\"Mars_facts\"] = mars_table\n",
    "    print(mars_data)\n",
    "    \n",
    "    ### Mars Hemispheres\n",
    "    hemisphere_url = \"https://astrogeology.usgs.gov/search/results?q=hemisphere+enhanced&k1=target&v1=Mars\"\n",
    "    browser.visit(hemisphere_url)\n",
    "    html =  browser.html\n",
    "    soup = bs(html, 'html.parser')\n",
    "    \n",
    "    hemisphere_image_urls = [\n",
    "        {\"title\": \"Valles Marineris Hemisphere\", \"img_url\": \"https://astrogeology.usgs.gov/search/map/Mars/Viking/valles_marineris_enhanced\"},\n",
    "        {\"title\": \"Cerberus Hemisphere\", \"img_url\": \"https://astrogeology.usgs.gov/search/map/Mars/Viking/cerberus_enhanced\"},\n",
    "        {\"title\": \"Schiaparelli Hemisphere\", \"img_url\": \"https://astrogeology.usgs.gov/search/map/Mars/Viking/schiaparelli_enhanced\"},\n",
    "        {\"title\": \"Syrtis Major Hemisphere\", \"img_url\": \"https://astrogeology.usgs.gov/search/map/Mars/Viking/syrtis_major_enhanced\"},\n",
    "    ]\n",
    "    \n",
    "    #for i in range(len(hemisphere_image_urls)):\n",
    "        #time.sleep(5)\n",
    "        #pass\n",
    "    \n",
    "    mars_data['Mars_hemispheres'] = hemisphere_image_urls\n",
    "    \n",
    "    browser.quit()\n",
    "    print(mars_data)\n",
    "    return mars_data"
   ]
  },
  {
   "cell_type": "code",
   "execution_count": 26,
   "metadata": {},
   "outputs": [
    {
     "name": "stdout",
     "output_type": "stream",
     "text": [
      "{'Mars_news_title': \"Meet the People Behind NASA's InSight Mars Lander\", 'Mars_news_summary': 'A series of NASA videos highlight scientists and engineers leading the next mission to Mars.'}\n",
      "            description                          value\n",
      "0  Equatorial Diameter:                       6,792 km\n",
      "1       Polar Diameter:                       6,752 km\n",
      "2                 Mass:  6.42 x 10^23 kg (10.7% Earth)\n",
      "3                Moons:            2 (Phobos & Deimos)\n",
      "4       Orbit Distance:       227,943,824 km (1.52 AU)\n",
      "5         Orbit Period:           687 days (1.9 years)\n",
      "6  Surface Temperature:                  -153 to 20 °C\n",
      "7         First Record:              2nd millennium BC\n",
      "8          Recorded By:           Egyptian astronomers\n",
      "{'Mars_news_title': \"Meet the People Behind NASA's InSight Mars Lander\", 'Mars_news_summary': 'A series of NASA videos highlight scientists and engineers leading the next mission to Mars.', 'Mars_featured_image': 'https://jpl.nasa.gov/assets/images/logo_nasa_trio_black@2x.png', 'Mars_weather': '\\nA view of this morning’s launch of the Parker #SolarProbe launch from about 3 miles awayhttps://youtu.be/hDhIane1Rso\\xa0\\n', 'Mars_facts': '<table border=\"1\" class=\"dataframe table\">   <thead>     <tr style=\"text-align: right;\">       <th></th>       <th>description</th>       <th>value</th>     </tr>   </thead>   <tbody>     <tr>       <th>0</th>       <td>Equatorial Diameter:</td>       <td>6,792 km</td>     </tr>     <tr>       <th>1</th>       <td>Polar Diameter:</td>       <td>6,752 km</td>     </tr>     <tr>       <th>2</th>       <td>Mass:</td>       <td>6.42 x 10^23 kg (10.7% Earth)</td>     </tr>     <tr>       <th>3</th>       <td>Moons:</td>       <td>2 (Phobos &amp; Deimos)</td>     </tr>     <tr>       <th>4</th>       <td>Orbit Distance:</td>       <td>227,943,824 km (1.52 AU)</td>     </tr>     <tr>       <th>5</th>       <td>Orbit Period:</td>       <td>687 days (1.9 years)</td>     </tr>     <tr>       <th>6</th>       <td>Surface Temperature:</td>       <td>-153 to 20 °C</td>     </tr>     <tr>       <th>7</th>       <td>First Record:</td>       <td>2nd millennium BC</td>     </tr>     <tr>       <th>8</th>       <td>Recorded By:</td>       <td>Egyptian astronomers</td>     </tr>   </tbody> </table>'}\n",
      "{'Mars_news_title': \"Meet the People Behind NASA's InSight Mars Lander\", 'Mars_news_summary': 'A series of NASA videos highlight scientists and engineers leading the next mission to Mars.', 'Mars_featured_image': 'https://jpl.nasa.gov/assets/images/logo_nasa_trio_black@2x.png', 'Mars_weather': '\\nA view of this morning’s launch of the Parker #SolarProbe launch from about 3 miles awayhttps://youtu.be/hDhIane1Rso\\xa0\\n', 'Mars_facts': '<table border=\"1\" class=\"dataframe table\">   <thead>     <tr style=\"text-align: right;\">       <th></th>       <th>description</th>       <th>value</th>     </tr>   </thead>   <tbody>     <tr>       <th>0</th>       <td>Equatorial Diameter:</td>       <td>6,792 km</td>     </tr>     <tr>       <th>1</th>       <td>Polar Diameter:</td>       <td>6,752 km</td>     </tr>     <tr>       <th>2</th>       <td>Mass:</td>       <td>6.42 x 10^23 kg (10.7% Earth)</td>     </tr>     <tr>       <th>3</th>       <td>Moons:</td>       <td>2 (Phobos &amp; Deimos)</td>     </tr>     <tr>       <th>4</th>       <td>Orbit Distance:</td>       <td>227,943,824 km (1.52 AU)</td>     </tr>     <tr>       <th>5</th>       <td>Orbit Period:</td>       <td>687 days (1.9 years)</td>     </tr>     <tr>       <th>6</th>       <td>Surface Temperature:</td>       <td>-153 to 20 °C</td>     </tr>     <tr>       <th>7</th>       <td>First Record:</td>       <td>2nd millennium BC</td>     </tr>     <tr>       <th>8</th>       <td>Recorded By:</td>       <td>Egyptian astronomers</td>     </tr>   </tbody> </table>', 'Mars-hemispheres': [{'title': 'Valles Marineris Hemisphere', 'img_url': 'https://astrogeology.usgs.gov/search/map/Mars/Viking/valles_marineris_enhanced'}, {'title': 'Cerberus Hemisphere', 'img_url': 'https://astrogeology.usgs.gov/search/map/Mars/Viking/cerberus_enhanced'}, {'title': 'Schiaparelli Hemisphere', 'img_url': 'https://astrogeology.usgs.gov/search/map/Mars/Viking/schiaparelli_enhanced'}, {'title': 'Syrtis Major Hemisphere', 'img_url': 'https://astrogeology.usgs.gov/search/map/Mars/Viking/syrtis_major_enhanced'}]}\n"
     ]
    }
   ],
   "source": [
    "md = scrape()"
   ]
  },
  {
   "cell_type": "code",
   "execution_count": 27,
   "metadata": {
    "scrolled": true
   },
   "outputs": [
    {
     "data": {
      "text/plain": [
       "{'Mars-hemispheres': [{'img_url': 'https://astrogeology.usgs.gov/search/map/Mars/Viking/valles_marineris_enhanced',\n",
       "   'title': 'Valles Marineris Hemisphere'},\n",
       "  {'img_url': 'https://astrogeology.usgs.gov/search/map/Mars/Viking/cerberus_enhanced',\n",
       "   'title': 'Cerberus Hemisphere'},\n",
       "  {'img_url': 'https://astrogeology.usgs.gov/search/map/Mars/Viking/schiaparelli_enhanced',\n",
       "   'title': 'Schiaparelli Hemisphere'},\n",
       "  {'img_url': 'https://astrogeology.usgs.gov/search/map/Mars/Viking/syrtis_major_enhanced',\n",
       "   'title': 'Syrtis Major Hemisphere'}],\n",
       " 'Mars_facts': '<table border=\"1\" class=\"dataframe table\">   <thead>     <tr style=\"text-align: right;\">       <th></th>       <th>description</th>       <th>value</th>     </tr>   </thead>   <tbody>     <tr>       <th>0</th>       <td>Equatorial Diameter:</td>       <td>6,792 km</td>     </tr>     <tr>       <th>1</th>       <td>Polar Diameter:</td>       <td>6,752 km</td>     </tr>     <tr>       <th>2</th>       <td>Mass:</td>       <td>6.42 x 10^23 kg (10.7% Earth)</td>     </tr>     <tr>       <th>3</th>       <td>Moons:</td>       <td>2 (Phobos &amp; Deimos)</td>     </tr>     <tr>       <th>4</th>       <td>Orbit Distance:</td>       <td>227,943,824 km (1.52 AU)</td>     </tr>     <tr>       <th>5</th>       <td>Orbit Period:</td>       <td>687 days (1.9 years)</td>     </tr>     <tr>       <th>6</th>       <td>Surface Temperature:</td>       <td>-153 to 20 °C</td>     </tr>     <tr>       <th>7</th>       <td>First Record:</td>       <td>2nd millennium BC</td>     </tr>     <tr>       <th>8</th>       <td>Recorded By:</td>       <td>Egyptian astronomers</td>     </tr>   </tbody> </table>',\n",
       " 'Mars_featured_image': 'https://jpl.nasa.gov/assets/images/logo_nasa_trio_black@2x.png',\n",
       " 'Mars_news_summary': 'A series of NASA videos highlight scientists and engineers leading the next mission to Mars.',\n",
       " 'Mars_news_title': \"Meet the People Behind NASA's InSight Mars Lander\",\n",
       " 'Mars_weather': '\\nA view of this morning’s launch of the Parker #SolarProbe launch from about 3 miles awayhttps://youtu.be/hDhIane1Rso\\xa0\\n'}"
      ]
     },
     "execution_count": 27,
     "metadata": {},
     "output_type": "execute_result"
    }
   ],
   "source": [
    "md"
   ]
  },
  {
   "cell_type": "code",
   "execution_count": 32,
   "metadata": {},
   "outputs": [
    {
     "data": {
      "text/plain": [
       "dict_keys(['Mars_news_title', 'Mars_news_summary', 'Mars_featured_image', 'Mars_weather', 'Mars_facts', 'Mars-hemispheres'])"
      ]
     },
     "execution_count": 32,
     "metadata": {},
     "output_type": "execute_result"
    }
   ],
   "source": [
    "md.keys()\n"
   ]
  },
  {
   "cell_type": "code",
   "execution_count": null,
   "metadata": {},
   "outputs": [],
   "source": []
  }
 ],
 "metadata": {
  "kernelspec": {
   "display_name": "Python [default]",
   "language": "python",
   "name": "python3"
  },
  "language_info": {
   "codemirror_mode": {
    "name": "ipython",
    "version": 3
   },
   "file_extension": ".py",
   "mimetype": "text/x-python",
   "name": "python",
   "nbconvert_exporter": "python",
   "pygments_lexer": "ipython3",
   "version": "3.6.4"
  }
 },
 "nbformat": 4,
 "nbformat_minor": 2
}
